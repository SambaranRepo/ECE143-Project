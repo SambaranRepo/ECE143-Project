{
 "cells": [
  {
   "cell_type": "code",
   "execution_count": 1,
   "id": "6f8df32f",
   "metadata": {},
   "outputs": [],
   "source": [
    "import numpy as np \n",
    "import matplotlib.pyplot as plt\n",
    "import pandas as pd"
   ]
  },
  {
   "cell_type": "code",
   "execution_count": 2,
   "id": "fb495187",
   "metadata": {},
   "outputs": [],
   "source": [
    "data_dir = '../data/'"
   ]
  },
  {
   "cell_type": "code",
   "execution_count": 4,
   "id": "97fbfd9a",
   "metadata": {},
   "outputs": [],
   "source": [
    "df_cvpr = pd.read_csv(data_dir + 'cvpr.csv')"
   ]
  },
  {
   "cell_type": "code",
   "execution_count": 5,
   "id": "e87f0762",
   "metadata": {},
   "outputs": [
    {
     "data": {
      "text/html": [
       "<div>\n",
       "<style scoped>\n",
       "    .dataframe tbody tr th:only-of-type {\n",
       "        vertical-align: middle;\n",
       "    }\n",
       "\n",
       "    .dataframe tbody tr th {\n",
       "        vertical-align: top;\n",
       "    }\n",
       "\n",
       "    .dataframe thead th {\n",
       "        text-align: right;\n",
       "    }\n",
       "</style>\n",
       "<table border=\"1\" class=\"dataframe\">\n",
       "  <thead>\n",
       "    <tr style=\"text-align: right;\">\n",
       "      <th></th>\n",
       "      <th>YEAR</th>\n",
       "      <th>TITLE</th>\n",
       "      <th>Authors</th>\n",
       "      <th>Paper Link</th>\n",
       "      <th>ABSTRACT</th>\n",
       "    </tr>\n",
       "  </thead>\n",
       "  <tbody>\n",
       "    <tr>\n",
       "      <th>0</th>\n",
       "      <td>2018</td>\n",
       "      <td>Embodied Question Answering</td>\n",
       "      <td>Abhishek Das, Samyak Datta, Georgia Gkioxari, ...</td>\n",
       "      <td>https://openaccess.thecvf.com/content_cvpr_201...</td>\n",
       "      <td>\\nWe present a new AI task -- Embodied Questio...</td>\n",
       "    </tr>\n",
       "    <tr>\n",
       "      <th>1</th>\n",
       "      <td>2018</td>\n",
       "      <td>Learning by Asking Questions</td>\n",
       "      <td>Ishan Misra, Ross Girshick, Rob Fergus, Martia...</td>\n",
       "      <td>https://openaccess.thecvf.com/content_cvpr_201...</td>\n",
       "      <td>\\nWe introduce an interactive learning framewo...</td>\n",
       "    </tr>\n",
       "    <tr>\n",
       "      <th>2</th>\n",
       "      <td>2018</td>\n",
       "      <td>Finding Tiny Faces in the Wild With Generative...</td>\n",
       "      <td>Yancheng Bai, Yongqiang Zhang, Mingli Ding, Be...</td>\n",
       "      <td>https://openaccess.thecvf.com/content_cvpr_201...</td>\n",
       "      <td>\\nFace detection techniques have been develope...</td>\n",
       "    </tr>\n",
       "    <tr>\n",
       "      <th>3</th>\n",
       "      <td>2018</td>\n",
       "      <td>Learning Face Age Progression: A Pyramid Archi...</td>\n",
       "      <td>Hongyu Yang, Di Huang, Yunhong Wang, Anil K. Jain</td>\n",
       "      <td>https://openaccess.thecvf.com/content_cvpr_201...</td>\n",
       "      <td>\\nThe two underlying requirements of face age ...</td>\n",
       "    </tr>\n",
       "    <tr>\n",
       "      <th>4</th>\n",
       "      <td>2018</td>\n",
       "      <td>PairedCycleGAN: Asymmetric Style Transfer for ...</td>\n",
       "      <td>Huiwen Chang, Jingwan Lu, Fisher Yu, Adam Fink...</td>\n",
       "      <td>https://openaccess.thecvf.com/content_cvpr_201...</td>\n",
       "      <td>\\nThis paper introduces an automatic method fo...</td>\n",
       "    </tr>\n",
       "  </tbody>\n",
       "</table>\n",
       "</div>"
      ],
      "text/plain": [
       "   YEAR                                              TITLE  \\\n",
       "0  2018                        Embodied Question Answering   \n",
       "1  2018                       Learning by Asking Questions   \n",
       "2  2018  Finding Tiny Faces in the Wild With Generative...   \n",
       "3  2018  Learning Face Age Progression: A Pyramid Archi...   \n",
       "4  2018  PairedCycleGAN: Asymmetric Style Transfer for ...   \n",
       "\n",
       "                                             Authors  \\\n",
       "0  Abhishek Das, Samyak Datta, Georgia Gkioxari, ...   \n",
       "1  Ishan Misra, Ross Girshick, Rob Fergus, Martia...   \n",
       "2  Yancheng Bai, Yongqiang Zhang, Mingli Ding, Be...   \n",
       "3  Hongyu Yang, Di Huang, Yunhong Wang, Anil K. Jain   \n",
       "4  Huiwen Chang, Jingwan Lu, Fisher Yu, Adam Fink...   \n",
       "\n",
       "                                          Paper Link  \\\n",
       "0  https://openaccess.thecvf.com/content_cvpr_201...   \n",
       "1  https://openaccess.thecvf.com/content_cvpr_201...   \n",
       "2  https://openaccess.thecvf.com/content_cvpr_201...   \n",
       "3  https://openaccess.thecvf.com/content_cvpr_201...   \n",
       "4  https://openaccess.thecvf.com/content_cvpr_201...   \n",
       "\n",
       "                                            ABSTRACT  \n",
       "0  \\nWe present a new AI task -- Embodied Questio...  \n",
       "1  \\nWe introduce an interactive learning framewo...  \n",
       "2  \\nFace detection techniques have been develope...  \n",
       "3  \\nThe two underlying requirements of face age ...  \n",
       "4  \\nThis paper introduces an automatic method fo...  "
      ]
     },
     "execution_count": 5,
     "metadata": {},
     "output_type": "execute_result"
    }
   ],
   "source": [
    "df_cvpr.head()"
   ]
  },
  {
   "cell_type": "code",
   "execution_count": 6,
   "id": "16f02752",
   "metadata": {},
   "outputs": [
    {
     "data": {
      "text/plain": [
       "YEAR          3739\n",
       "TITLE         3739\n",
       "Authors       3739\n",
       "Paper Link    3739\n",
       "ABSTRACT      3739\n",
       "dtype: int64"
      ]
     },
     "execution_count": 6,
     "metadata": {},
     "output_type": "execute_result"
    }
   ],
   "source": [
    "df_cvpr.count()"
   ]
  },
  {
   "cell_type": "code",
   "execution_count": 12,
   "id": "c0e9b635",
   "metadata": {},
   "outputs": [],
   "source": [
    "df_nips = pd.read_csv(data_dir + 'nips.csv')"
   ]
  },
  {
   "cell_type": "code",
   "execution_count": 11,
   "id": "f1d5987e",
   "metadata": {},
   "outputs": [
    {
     "data": {
      "text/plain": [
       "YEAR          3679\n",
       "TITLE         3679\n",
       "Authors       3677\n",
       "Paper Link    3679\n",
       "ABSTRACT      3679\n",
       "dtype: int64"
      ]
     },
     "execution_count": 11,
     "metadata": {},
     "output_type": "execute_result"
    }
   ],
   "source": [
    "df_nips.count()"
   ]
  },
  {
   "cell_type": "code",
   "execution_count": 18,
   "id": "7a8ba4ce",
   "metadata": {},
   "outputs": [],
   "source": [
    "del df_nips['Unnamed: 5']"
   ]
  },
  {
   "cell_type": "code",
   "execution_count": 19,
   "id": "f97ffd8a",
   "metadata": {},
   "outputs": [],
   "source": [
    "del df_nips['Unnamed: 6']"
   ]
  },
  {
   "cell_type": "code",
   "execution_count": 40,
   "id": "04a74170",
   "metadata": {},
   "outputs": [
    {
     "data": {
      "text/html": [
       "<div>\n",
       "<style scoped>\n",
       "    .dataframe tbody tr th:only-of-type {\n",
       "        vertical-align: middle;\n",
       "    }\n",
       "\n",
       "    .dataframe tbody tr th {\n",
       "        vertical-align: top;\n",
       "    }\n",
       "\n",
       "    .dataframe thead th {\n",
       "        text-align: right;\n",
       "    }\n",
       "</style>\n",
       "<table border=\"1\" class=\"dataframe\">\n",
       "  <thead>\n",
       "    <tr style=\"text-align: right;\">\n",
       "      <th></th>\n",
       "      <th>YEAR</th>\n",
       "      <th>TITLE</th>\n",
       "      <th>Authors</th>\n",
       "      <th>Paper Link</th>\n",
       "      <th>ABSTRACT</th>\n",
       "    </tr>\n",
       "  </thead>\n",
       "  <tbody>\n",
       "    <tr>\n",
       "      <th>0</th>\n",
       "      <td>2018.0</td>\n",
       "      <td>Synthesized Policies for Transfer and Adaptati...</td>\n",
       "      <td>Hexiang Hu, Liyu Chen, Boqing Gong, Fei Sha</td>\n",
       "      <td>https://papers.nips.cc//paper/2018/hash/00ac8e...</td>\n",
       "      <td>The ability to transfer in reinforcement learn...</td>\n",
       "    </tr>\n",
       "    <tr>\n",
       "      <th>1</th>\n",
       "      <td>2018.0</td>\n",
       "      <td>Self-Supervised Generation of Spatial Audio fo...</td>\n",
       "      <td>Pedro Morgado, Nuno Vasconcelos, Timothy Langl...</td>\n",
       "      <td>https://papers.nips.cc//paper/2018/hash/01161a...</td>\n",
       "      <td>We introduce an approach to convert mono audio...</td>\n",
       "    </tr>\n",
       "    <tr>\n",
       "      <th>2</th>\n",
       "      <td>2018.0</td>\n",
       "      <td>On GANs and GMMs</td>\n",
       "      <td>Eitan Richardson, Yair Weiss</td>\n",
       "      <td>https://papers.nips.cc//paper/2018/hash/0172d2...</td>\n",
       "      <td>A longstanding problem in machine learning is ...</td>\n",
       "    </tr>\n",
       "    <tr>\n",
       "      <th>3</th>\n",
       "      <td>2018.0</td>\n",
       "      <td>Batch-Instance Normalization for Adaptively St...</td>\n",
       "      <td>Hyeonseob Nam, Hyo-Eun Kim</td>\n",
       "      <td>https://papers.nips.cc//paper/2018/hash/018b59...</td>\n",
       "      <td>Real-world image recognition is often challeng...</td>\n",
       "    </tr>\n",
       "    <tr>\n",
       "      <th>4</th>\n",
       "      <td>2018.0</td>\n",
       "      <td>Hierarchical Reinforcement Learning for Zero-s...</td>\n",
       "      <td>Sungryull Sohn, Junhyuk Oh, Honglak Lee</td>\n",
       "      <td>https://papers.nips.cc//paper/2018/hash/018dd1...</td>\n",
       "      <td>We introduce a new RL problem where the agent ...</td>\n",
       "    </tr>\n",
       "  </tbody>\n",
       "</table>\n",
       "</div>"
      ],
      "text/plain": [
       "     YEAR                                              TITLE  \\\n",
       "0  2018.0  Synthesized Policies for Transfer and Adaptati...   \n",
       "1  2018.0  Self-Supervised Generation of Spatial Audio fo...   \n",
       "2  2018.0                                   On GANs and GMMs   \n",
       "3  2018.0  Batch-Instance Normalization for Adaptively St...   \n",
       "4  2018.0  Hierarchical Reinforcement Learning for Zero-s...   \n",
       "\n",
       "                                             Authors  \\\n",
       "0        Hexiang Hu, Liyu Chen, Boqing Gong, Fei Sha   \n",
       "1  Pedro Morgado, Nuno Vasconcelos, Timothy Langl...   \n",
       "2                       Eitan Richardson, Yair Weiss   \n",
       "3                         Hyeonseob Nam, Hyo-Eun Kim   \n",
       "4            Sungryull Sohn, Junhyuk Oh, Honglak Lee   \n",
       "\n",
       "                                          Paper Link  \\\n",
       "0  https://papers.nips.cc//paper/2018/hash/00ac8e...   \n",
       "1  https://papers.nips.cc//paper/2018/hash/01161a...   \n",
       "2  https://papers.nips.cc//paper/2018/hash/0172d2...   \n",
       "3  https://papers.nips.cc//paper/2018/hash/018b59...   \n",
       "4  https://papers.nips.cc//paper/2018/hash/018dd1...   \n",
       "\n",
       "                                            ABSTRACT  \n",
       "0  The ability to transfer in reinforcement learn...  \n",
       "1  We introduce an approach to convert mono audio...  \n",
       "2  A longstanding problem in machine learning is ...  \n",
       "3  Real-world image recognition is often challeng...  \n",
       "4  We introduce a new RL problem where the agent ...  "
      ]
     },
     "execution_count": 40,
     "metadata": {},
     "output_type": "execute_result"
    }
   ],
   "source": [
    "df_nips.head()"
   ]
  },
  {
   "cell_type": "markdown",
   "id": "78326334",
   "metadata": {},
   "source": [
    "# Plotting for CVPR"
   ]
  },
  {
   "cell_type": "code",
   "execution_count": 27,
   "id": "a0e71248",
   "metadata": {},
   "outputs": [],
   "source": [
    "years = df_cvpr['YEAR'].unique()"
   ]
  },
  {
   "cell_type": "code",
   "execution_count": 28,
   "id": "a06b8d11",
   "metadata": {},
   "outputs": [
    {
     "data": {
      "text/plain": [
       "array([2018, 2019, 2020])"
      ]
     },
     "execution_count": 28,
     "metadata": {},
     "output_type": "execute_result"
    }
   ],
   "source": [
    "years"
   ]
  },
  {
   "cell_type": "code",
   "execution_count": 52,
   "id": "25de3f31",
   "metadata": {},
   "outputs": [
    {
     "name": "stdout",
     "output_type": "stream",
     "text": [
      "{2018: 979, 2019: 1294, 2020: 1466}\n",
      "{2018: 867, 2019: 1205, 2020: 1607}\n"
     ]
    }
   ],
   "source": [
    "papers_per_year_cvpr = dict()\n",
    "for i in range(len(years)): \n",
    "    papers_per_year_cvpr.update({years[i]: 0})\n",
    "for i in range(len(df_cvpr)): \n",
    "    papers_per_year_cvpr[df_cvpr['YEAR'][i]] +=1\n",
    "print(papers_per_year_cvpr)\n",
    "\n",
    "import math\n",
    "papers_per_year_nips = dict()\n",
    "for i in range(len(years)): \n",
    "    papers_per_year_nips.update({years[i]: 0})\n",
    "for i in range(len(df_nips)):\n",
    "    if math.isnan(df_nips['YEAR'][i]):\n",
    "        continue\n",
    "    papers_per_year_nips[int(df_nips['YEAR'][i])] +=1\n",
    "print(papers_per_year_nips)"
   ]
  },
  {
   "cell_type": "code",
   "execution_count": 53,
   "id": "531ac213",
   "metadata": {},
   "outputs": [
    {
     "data": {
      "text/plain": [
       "Text(0, 0.5, 'Number of Papers')"
      ]
     },
     "execution_count": 53,
     "metadata": {},
     "output_type": "execute_result"
    },
    {
     "data": {
      "image/png": "[encoded data removed]",
      "text/plain": [
       "<Figure size 720x576 with 1 Axes>"
      ]
     },
     "metadata": {
      "needs_background": "light"
     },
     "output_type": "display_data"
    }
   ],
   "source": [
    "plt.figure(figsize=(10,8))\n",
    "plt.title('Number of papers accepted in CVPR, NeurIPS from 2018-2020')\n",
    "plt.plot(papers_per_year_cvpr.keys(), papers_per_year_cvpr.values(), c = 'green',  marker = '.')\n",
    "plt.plot(papers_per_year_nips.keys(), papers_per_year_nips.values(), c = 'red',  marker = '.')\n",
    "plt.xlabel('Year')\n",
    "plt.xticks([2018,2019,2020], fontsize = 15)\n",
    "plt.yticks(fontsize = 15)\n",
    "plt.ylabel('Number of Papers')"
   ]
  },
  {
   "cell_type": "code",
   "execution_count": null,
   "id": "cd7896ed",
   "metadata": {},
   "outputs": [],
   "source": []
  }
 ],
 "metadata": {
  "kernelspec": {
   "display_name": "Python 3",
   "language": "python",
   "name": "python3"
  },
  "language_info": {
   "codemirror_mode": {
    "name": "ipython",
    "version": 3
   },
   "file_extension": ".py",
   "mimetype": "text/x-python",
   "name": "python",
   "nbconvert_exporter": "python",
   "pygments_lexer": "ipython3",
   "version": "3.9.7"
  }
 },
 "nbformat": 4,
 "nbformat_minor": 5
}
